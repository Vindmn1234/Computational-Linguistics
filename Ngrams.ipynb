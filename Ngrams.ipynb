{
 "cells": [
  {
   "cell_type": "markdown",
   "id": "769ef2b3",
   "metadata": {},
   "source": [
    "Pretrain BERT for sentiment analysis"
   ]
  },
  {
   "cell_type": "code",
   "execution_count": 1,
   "id": "ef9e9130",
   "metadata": {},
   "outputs": [],
   "source": [
    "from transformers import AutoTokenizer, AutoModelForSequenceClassification\n",
    "import torch\n",
    "import requests\n",
    "from bs4 import BeautifulSoup\n",
    "import re"
   ]
  },
  {
   "cell_type": "code",
   "execution_count": 11,
   "id": "39ce745f",
   "metadata": {},
   "outputs": [
    {
     "data": {
      "application/vnd.jupyter.widget-view+json": {
       "model_id": "5f8e14a47a614c9c9c20c0d53224550f",
       "version_major": 2,
       "version_minor": 0
      },
      "text/plain": [
       "Downloading (…)okenizer_config.json:   0%|          | 0.00/39.0 [00:00<?, ?B/s]"
      ]
     },
     "metadata": {},
     "output_type": "display_data"
    },
    {
     "data": {
      "application/vnd.jupyter.widget-view+json": {
       "model_id": "9ac0f36ef03f421aa60ba4fcc0b6c695",
       "version_major": 2,
       "version_minor": 0
      },
      "text/plain": [
       "Downloading (…)lve/main/config.json:   0%|          | 0.00/953 [00:00<?, ?B/s]"
      ]
     },
     "metadata": {},
     "output_type": "display_data"
    },
    {
     "data": {
      "application/vnd.jupyter.widget-view+json": {
       "model_id": "a1739ae69fd8403cbd2cfbeed7e15dfb",
       "version_major": 2,
       "version_minor": 0
      },
      "text/plain": [
       "Downloading (…)solve/main/vocab.txt:   0%|          | 0.00/872k [00:00<?, ?B/s]"
      ]
     },
     "metadata": {},
     "output_type": "display_data"
    },
    {
     "data": {
      "application/vnd.jupyter.widget-view+json": {
       "model_id": "df0392f0455c42a0945002fb061f32ff",
       "version_major": 2,
       "version_minor": 0
      },
      "text/plain": [
       "Downloading (…)cial_tokens_map.json:   0%|          | 0.00/112 [00:00<?, ?B/s]"
      ]
     },
     "metadata": {},
     "output_type": "display_data"
    },
    {
     "data": {
      "application/vnd.jupyter.widget-view+json": {
       "model_id": "679cf79094fd4498b33a4aa5adb1b1d9",
       "version_major": 2,
       "version_minor": 0
      },
      "text/plain": [
       "Downloading pytorch_model.bin:   0%|          | 0.00/669M [00:00<?, ?B/s]"
      ]
     },
     "metadata": {},
     "output_type": "display_data"
    }
   ],
   "source": [
    "tokenizer = AutoTokenizer.from_pretrained('nlptown/bert-base-multilingual-uncased-sentiment')\n",
    "\n",
    "model = AutoModelForSequenceClassification.from_pretrained('nlptown/bert-base-multilingual-uncased-sentiment')"
   ]
  },
  {
   "cell_type": "code",
   "execution_count": 13,
   "id": "b3475fd8",
   "metadata": {},
   "outputs": [],
   "source": [
    "tokens = tokenizer.encode('It was good but couldve been better. Great', return_tensors='pt')"
   ]
  },
  {
   "cell_type": "code",
   "execution_count": 14,
   "id": "ba744cd1",
   "metadata": {},
   "outputs": [],
   "source": [
    "result = model(tokens)"
   ]
  },
  {
   "cell_type": "code",
   "execution_count": 15,
   "id": "85228cc2",
   "metadata": {},
   "outputs": [
    {
     "data": {
      "text/plain": [
       "tensor([[-2.7768, -1.2353,  1.4419,  1.9804,  0.4584]],\n",
       "       grad_fn=<AddmmBackward0>)"
      ]
     },
     "execution_count": 15,
     "metadata": {},
     "output_type": "execute_result"
    }
   ],
   "source": [
    "result.logits"
   ]
  },
  {
   "cell_type": "code",
   "execution_count": 16,
   "id": "c8d75459",
   "metadata": {},
   "outputs": [
    {
     "data": {
      "text/plain": [
       "4"
      ]
     },
     "execution_count": 16,
     "metadata": {},
     "output_type": "execute_result"
    }
   ],
   "source": [
    "int(torch.argmax(result.logits))+1"
   ]
  },
  {
   "cell_type": "code",
   "execution_count": 17,
   "id": "d7b1434d",
   "metadata": {},
   "outputs": [],
   "source": [
    "r = requests.get('https://www.yelp.com/biz/social-brew-cafe-pyrmont')\n",
    "soup = BeautifulSoup(r.text, 'html.parser')\n",
    "regex = re.compile('.*comment.*')\n",
    "results = soup.find_all('p', {'class':regex})\n",
    "reviews = [result.text for result in results]"
   ]
  },
  {
   "cell_type": "code",
   "execution_count": null,
   "id": "53fd9857",
   "metadata": {},
   "outputs": [],
   "source": [
    "reviews"
   ]
  },
  {
   "cell_type": "code",
   "execution_count": 19,
   "id": "31edeeee",
   "metadata": {},
   "outputs": [],
   "source": [
    "import numpy as np\n",
    "import pandas as pd\n",
    "df = pd.DataFrame(np.array(reviews), columns=['review'])"
   ]
  },
  {
   "cell_type": "code",
   "execution_count": 20,
   "id": "9bd33e93",
   "metadata": {},
   "outputs": [
    {
     "data": {
      "text/html": [
       "<div>\n",
       "<style scoped>\n",
       "    .dataframe tbody tr th:only-of-type {\n",
       "        vertical-align: middle;\n",
       "    }\n",
       "\n",
       "    .dataframe tbody tr th {\n",
       "        vertical-align: top;\n",
       "    }\n",
       "\n",
       "    .dataframe thead th {\n",
       "        text-align: right;\n",
       "    }\n",
       "</style>\n",
       "<table border=\"1\" class=\"dataframe\">\n",
       "  <thead>\n",
       "    <tr style=\"text-align: right;\">\n",
       "      <th></th>\n",
       "      <th>review</th>\n",
       "    </tr>\n",
       "  </thead>\n",
       "  <tbody>\n",
       "    <tr>\n",
       "      <th>0</th>\n",
       "      <td>Very cute coffee shop and restaurant. They hav...</td>\n",
       "    </tr>\n",
       "    <tr>\n",
       "      <th>1</th>\n",
       "      <td>Six of us met here for breakfast before our wa...</td>\n",
       "    </tr>\n",
       "    <tr>\n",
       "      <th>2</th>\n",
       "      <td>Great place with delicious food and friendly s...</td>\n",
       "    </tr>\n",
       "    <tr>\n",
       "      <th>3</th>\n",
       "      <td>Some of the best Milkshakes me and my daughter...</td>\n",
       "    </tr>\n",
       "    <tr>\n",
       "      <th>4</th>\n",
       "      <td>Great food amazing coffee and tea. Short walk ...</td>\n",
       "    </tr>\n",
       "  </tbody>\n",
       "</table>\n",
       "</div>"
      ],
      "text/plain": [
       "                                              review\n",
       "0  Very cute coffee shop and restaurant. They hav...\n",
       "1  Six of us met here for breakfast before our wa...\n",
       "2  Great place with delicious food and friendly s...\n",
       "3  Some of the best Milkshakes me and my daughter...\n",
       "4  Great food amazing coffee and tea. Short walk ..."
      ]
     },
     "execution_count": 20,
     "metadata": {},
     "output_type": "execute_result"
    }
   ],
   "source": [
    "df.head()"
   ]
  },
  {
   "cell_type": "code",
   "execution_count": 21,
   "id": "8e6e358a",
   "metadata": {},
   "outputs": [],
   "source": [
    "def sentiment_score(review):\n",
    "    tokens = tokenizer.encode(review, return_tensors='pt')\n",
    "    result = model(tokens)\n",
    "    return int(torch.argmax(result.logits))+1"
   ]
  },
  {
   "cell_type": "code",
   "execution_count": 22,
   "id": "6f9da8f5",
   "metadata": {},
   "outputs": [],
   "source": [
    "df['sentiment'] = df['review'].apply(lambda x: sentiment_score(x[:512]))"
   ]
  },
  {
   "cell_type": "code",
   "execution_count": 23,
   "id": "a67e23e1",
   "metadata": {},
   "outputs": [
    {
     "data": {
      "text/html": [
       "<div>\n",
       "<style scoped>\n",
       "    .dataframe tbody tr th:only-of-type {\n",
       "        vertical-align: middle;\n",
       "    }\n",
       "\n",
       "    .dataframe tbody tr th {\n",
       "        vertical-align: top;\n",
       "    }\n",
       "\n",
       "    .dataframe thead th {\n",
       "        text-align: right;\n",
       "    }\n",
       "</style>\n",
       "<table border=\"1\" class=\"dataframe\">\n",
       "  <thead>\n",
       "    <tr style=\"text-align: right;\">\n",
       "      <th></th>\n",
       "      <th>review</th>\n",
       "      <th>sentiment</th>\n",
       "    </tr>\n",
       "  </thead>\n",
       "  <tbody>\n",
       "    <tr>\n",
       "      <th>0</th>\n",
       "      <td>Very cute coffee shop and restaurant. They hav...</td>\n",
       "      <td>4</td>\n",
       "    </tr>\n",
       "    <tr>\n",
       "      <th>1</th>\n",
       "      <td>Six of us met here for breakfast before our wa...</td>\n",
       "      <td>4</td>\n",
       "    </tr>\n",
       "    <tr>\n",
       "      <th>2</th>\n",
       "      <td>Great place with delicious food and friendly s...</td>\n",
       "      <td>5</td>\n",
       "    </tr>\n",
       "    <tr>\n",
       "      <th>3</th>\n",
       "      <td>Some of the best Milkshakes me and my daughter...</td>\n",
       "      <td>5</td>\n",
       "    </tr>\n",
       "    <tr>\n",
       "      <th>4</th>\n",
       "      <td>Great food amazing coffee and tea. Short walk ...</td>\n",
       "      <td>5</td>\n",
       "    </tr>\n",
       "  </tbody>\n",
       "</table>\n",
       "</div>"
      ],
      "text/plain": [
       "                                              review  sentiment\n",
       "0  Very cute coffee shop and restaurant. They hav...          4\n",
       "1  Six of us met here for breakfast before our wa...          4\n",
       "2  Great place with delicious food and friendly s...          5\n",
       "3  Some of the best Milkshakes me and my daughter...          5\n",
       "4  Great food amazing coffee and tea. Short walk ...          5"
      ]
     },
     "execution_count": 23,
     "metadata": {},
     "output_type": "execute_result"
    }
   ],
   "source": [
    "df.head()"
   ]
  },
  {
   "cell_type": "code",
   "execution_count": 32,
   "id": "eafd0000",
   "metadata": {},
   "outputs": [
    {
     "data": {
      "text/plain": [
       "5    6\n",
       "4    3\n",
       "3    1\n",
       "Name: sentiment, dtype: int64"
      ]
     },
     "execution_count": 32,
     "metadata": {},
     "output_type": "execute_result"
    }
   ],
   "source": [
    "counts = df['sentiment'].value_counts()\n",
    "counts"
   ]
  },
  {
   "cell_type": "code",
   "execution_count": 27,
   "id": "c352ec8d",
   "metadata": {},
   "outputs": [
    {
     "data": {
      "image/png": "[encoded data removed]",
      "text/plain": [
       "<Figure size 640x480 with 1 Axes>"
      ]
     },
     "metadata": {},
     "output_type": "display_data"
    }
   ],
   "source": [
    "import seaborn as sns\n",
    "import matplotlib.pyplot as plt\n",
    "\n",
    "bins = [0.5, 1.5, 2.5, 3.5, 4.5, 5.5]\n",
    "sns.histplot(df['sentiment'], bins=bins, kde=False)\n",
    "plt.title('Histogram of Sentiment')\n",
    "plt.xlabel('Sentiment Value')\n",
    "plt.ylabel('Frequency')\n",
    "plt.xticks(range(1, 6))\n",
    "plt.show()"
   ]
  },
  {
   "cell_type": "markdown",
   "id": "5fdd6bad",
   "metadata": {},
   "source": [
    "N-grams"
   ]
  },
  {
   "cell_type": "code",
   "execution_count": 12,
   "id": "ce7af0d4",
   "metadata": {},
   "outputs": [],
   "source": [
    "import nltk\n",
    "from nltk.corpus import brown\n",
    "from nltk.tokenize import word_tokenize\n",
    "from nltk.corpus import stopwords\n",
    "import matplotlib.pyplot as plt\n",
    "import seaborn as sns"
   ]
  },
  {
   "cell_type": "code",
   "execution_count": 4,
   "id": "008d25bb",
   "metadata": {},
   "outputs": [
    {
     "name": "stderr",
     "output_type": "stream",
     "text": [
      "[nltk_data] Downloading package brown to\n",
      "[nltk_data]     /Users/lijiazheng/nltk_data...\n",
      "[nltk_data]   Package brown is already up-to-date!\n"
     ]
    },
    {
     "name": "stdout",
     "output_type": "stream",
     "text": [
      "CORPUS EXAMPLE: ['the', 'fulton', 'county', 'grand', 'jury', 'said', 'friday', 'an', 'investigation', 'of', \"atlanta's\", 'recent', 'primary', 'election', 'produced', '``', 'no', 'evidence', \"''\", 'that', 'any', 'irregularities', 'took', 'place', '.', 'the', 'jury', 'further', 'said', 'in', 'term-end', 'presentments', 'that', 'the', 'city', 'executive', 'committee', ',', 'which', 'had', 'over-all', 'charge', 'of', 'the', 'election', ',', '``', 'deserves', 'the', 'praise', 'and', 'thanks', 'of', 'the', 'city', 'of', 'atlanta', \"''\", 'for', 'the', 'manner', 'in', 'which', 'the', 'election', 'was', 'conducted', '.', 'the', 'september-october', 'term', 'jury', 'had', 'been', 'charged', 'by', 'fulton', 'superior', 'court', 'judge', 'durwood', 'pye', 'to', 'investigate', 'reports', 'of', 'possible', '``', 'irregularities', \"''\", 'in', 'the', 'hard-fought', 'primary', 'which', 'was', 'won', 'by', 'mayor-nominate', 'ivan']\n",
      "\n",
      "\n",
      "VOCAB EXAMPLE: ['source', 'aggravates', 'brain', 'drawers', 'vue', 'dishonesty', 'cyril', 'wanderings', 'catered', 'hilarity']\n"
     ]
    }
   ],
   "source": [
    "nltk.download('brown')\n",
    "corpus = brown.words()\n",
    "\n",
    "lower_case_corpus = [w.lower() for w in corpus]\n",
    "vocab = set(lower_case_corpus)\n",
    "\n",
    "print('CORPUS EXAMPLE: ' + str(lower_case_corpus[:100]) + '\\n\\n')\n",
    "print('VOCAB EXAMPLE: ' + str(list(vocab)[:10]))"
   ]
  },
  {
   "cell_type": "code",
   "execution_count": 5,
   "id": "78bf2bc4",
   "metadata": {},
   "outputs": [
    {
     "name": "stdout",
     "output_type": "stream",
     "text": [
      "Total words in Corpus: 1161192\n",
      "Vocab of the Corpus: 49815\n"
     ]
    }
   ],
   "source": [
    "print('Total words in Corpus: ' + str(len(lower_case_corpus)))\n",
    "print('Vocab of the Corpus: ' + str(len(vocab)))"
   ]
  },
  {
   "cell_type": "code",
   "execution_count": 6,
   "id": "2ea514e3",
   "metadata": {},
   "outputs": [
    {
     "name": "stdout",
     "output_type": "stream",
     "text": [
      "Example, count for bigram ('the', 'king') is: 51\n"
     ]
    }
   ],
   "source": [
    "bigram_counts = {}\n",
    "trigram_counts = {}\n",
    "\n",
    "# Sliding through corpus to get bigram and trigram counts\n",
    "for i in range(len(lower_case_corpus) - 2):\n",
    "    # Getting bigram and trigram at each slide\n",
    "    bigram = (lower_case_corpus[i], lower_case_corpus[i+1])\n",
    "    trigram = (lower_case_corpus[i], lower_case_corpus[i+1], lower_case_corpus[i+2])\n",
    "    \n",
    "    # Keeping track of the bigram counts\n",
    "    if bigram in bigram_counts.keys():\n",
    "        bigram_counts[bigram] += 1\n",
    "    else:\n",
    "        bigram_counts[bigram] = 1\n",
    " \n",
    "    # Keeping track of trigram counts\n",
    "    if trigram in trigram_counts.keys():\n",
    "        trigram_counts[trigram] += 1\n",
    "    else:\n",
    "        trigram_counts[trigram] = 1\n",
    "\n",
    "print(\"Example, count for bigram ('the', 'king') is: \" + str(bigram_counts[('the', 'king')]))"
   ]
  },
  {
   "cell_type": "code",
   "execution_count": 7,
   "id": "72c873c0",
   "metadata": {},
   "outputs": [],
   "source": [
    "def suggest_next_word(input_, bigram_counts, trigram_counts, vocab):\n",
    "    # Consider the last bigram of sentence\n",
    "    tokenized_input = word_tokenize(input_.lower())\n",
    "    last_bigram = tokenized_input[-2:]\n",
    "    \n",
    "    # Calculating probability for each word in vocab\n",
    "    vocab_probabilities = {}\n",
    "    for vocab_word in vocab:\n",
    "        test_trigram = (last_bigram[0], last_bigram[1], vocab_word)\n",
    "        test_bigram = (last_bigram[0], last_bigram[1])\n",
    "\n",
    "        test_trigram_count = trigram_counts.get(test_trigram, 0)\n",
    "        test_bigram_count = bigram_counts.get(test_bigram, 0)\n",
    "        \n",
    "        probability = test_trigram_count / test_bigram_count\n",
    "        vocab_probabilities[vocab_word] = probability\n",
    "    \n",
    "    # Sorting the vocab probability in descending order to get top probable words\n",
    "    top_suggestions = sorted(vocab_probabilities.items(), key=lambda x: x[1], reverse=True)[:3]\n",
    "    return top_suggestions"
   ]
  },
  {
   "cell_type": "code",
   "execution_count": 8,
   "id": "3c3377a2",
   "metadata": {},
   "outputs": [
    {
     "data": {
      "text/plain": [
       "[('james', 0.17647058823529413),\n",
       " ('of', 0.1568627450980392),\n",
       " ('arthur', 0.11764705882352941)]"
      ]
     },
     "execution_count": 8,
     "metadata": {},
     "output_type": "execute_result"
    }
   ],
   "source": [
    "suggest_next_word('I am the king', bigram_counts, trigram_counts, vocab)"
   ]
  },
  {
   "cell_type": "code",
   "execution_count": 9,
   "id": "240d1dc4",
   "metadata": {},
   "outputs": [
    {
     "data": {
      "text/plain": [
       "[('france', 0.3333333333333333),\n",
       " ('hearts', 0.16666666666666666),\n",
       " ('kings', 0.08333333333333333)]"
      ]
     },
     "execution_count": 9,
     "metadata": {},
     "output_type": "execute_result"
    }
   ],
   "source": [
    "suggest_next_word('I am the king of', bigram_counts, trigram_counts, vocab)"
   ]
  },
  {
   "cell_type": "code",
   "execution_count": 27,
   "id": "802efd58",
   "metadata": {},
   "outputs": [
    {
     "name": "stderr",
     "output_type": "stream",
     "text": [
      "[nltk_data] Downloading package brown to\n",
      "[nltk_data]     /Users/lijiazheng/nltk_data...\n",
      "[nltk_data]   Package brown is already up-to-date!\n",
      "[nltk_data] Downloading package punkt to\n",
      "[nltk_data]     /Users/lijiazheng/nltk_data...\n",
      "[nltk_data]   Package punkt is already up-to-date!\n"
     ]
    },
    {
     "name": "stdout",
     "output_type": "stream",
     "text": [
      "the top 10 TF-IDF scores in the 100th sentence: [('legislatures', 0.3023731845268359), ('watered', 0.2750594872690913), ('taxation', 0.26376827508568723), ('rejection', 0.26153928132518095), ('daniel', 0.25406878501554947), ('revenue', 0.2347663302949751), ('personally', 0.22758641981199595), ('considerably', 0.22696060570686474), ('hearing', 0.21348804315473366), ('previous', 0.2086022263349752)]\n"
     ]
    }
   ],
   "source": [
    "import nltk\n",
    "from nltk.corpus import brown\n",
    "from sklearn.feature_extraction.text import TfidfVectorizer\n",
    "nltk.download('brown')\n",
    "nltk.download('punkt')\n",
    "\n",
    "sentences = [' '.join(sent) for sent in brown.sents()]\n",
    "\n",
    "# Create a TfidfVectorizer object\n",
    "tfidf_vect = TfidfVectorizer()\n",
    "\n",
    "tfidf_matrix = tfidf_vect.fit_transform(sentences)\n",
    "words = tfidf_vect.get_feature_names_out()\n",
    "\n",
    "sentence_idx = 100\n",
    "tfidf_scores = tfidf_matrix[sentence_idx].todense().tolist()[0]\n",
    "word_scores = list(zip(words, tfidf_scores))\n",
    "\n",
    "# Sort words by their TF-IDF scores in descending order\n",
    "sorted_word_scores = sorted(word_scores, key=lambda x: x[1], reverse=True)\n",
    "\n",
    "print(\"the top 10 TF-IDF scores in the 100th sentence:\",sorted_word_scores[:10])"
   ]
  },
  {
   "cell_type": "markdown",
   "id": "dfa271a2",
   "metadata": {},
   "source": [
    "Visualization"
   ]
  },
  {
   "cell_type": "code",
   "execution_count": 22,
   "id": "0db3b3ab",
   "metadata": {},
   "outputs": [
    {
     "name": "stderr",
     "output_type": "stream",
     "text": [
      "[nltk_data] Downloading package brown to\n",
      "[nltk_data]     /Users/lijiazheng/nltk_data...\n",
      "[nltk_data]   Package brown is already up-to-date!\n",
      "[nltk_data] Downloading package stopwords to\n",
      "[nltk_data]     /Users/lijiazheng/nltk_data...\n",
      "[nltk_data]   Package stopwords is already up-to-date!\n"
     ]
    },
    {
     "data": {
      "image/png": "[encoded data removed]",
      "text/plain": [
       "<Figure size 1500x500 with 1 Axes>"
      ]
     },
     "metadata": {},
     "output_type": "display_data"
    }
   ],
   "source": [
    "import string\n",
    "from nltk.corpus import brown\n",
    "from nltk import bigrams\n",
    "import matplotlib.pyplot as plt\n",
    "import seaborn as sns\n",
    "import pandas as pd\n",
    "\n",
    "nltk.download('brown')\n",
    "nltk.download('stopwords')\n",
    "\n",
    "corpus = brown.words()\n",
    "\n",
    "# Adding extra punctuation to the standard list\n",
    "extra_punctuations = ['``', \"''\", '--']\n",
    "all_punctuations = set(string.punctuation).union(extra_punctuations)\n",
    "\n",
    "# Convert to lower case and filter out stopwords and all punctuation\n",
    "stop_words = set(nltk.corpus.stopwords.words('english'))\n",
    "lower_case_corpus = [\n",
    "    w.lower() for w in corpus\n",
    "    if w.lower() not in stop_words and w not in all_punctuations\n",
    "]\n",
    "\n",
    "# Create bigrams from the filtered corpus\n",
    "filtered_bigrams = list(bigrams(lower_case_corpus))\n",
    "\n",
    "# Count the bigrams in the filtered corpus\n",
    "filtered_bigram_counts = {}\n",
    "for bg in filtered_bigrams:\n",
    "    if bg in filtered_bigram_counts:\n",
    "        filtered_bigram_counts[bg] += 1\n",
    "    else:\n",
    "        filtered_bigram_counts[bg] = 1\n",
    "\n",
    "# Get the top 10 bigrams after removing stopwords and all punctuation\n",
    "top_filtered_bigrams = dict(sorted(filtered_bigram_counts.items(), key=lambda item: item[1], reverse=True)[:10])\n",
    "\n",
    "# Create a DataFrame for visualization\n",
    "bigram_df = pd.DataFrame(list(top_filtered_bigrams.items()), columns=['Bigram', 'Count'])\n",
    "\n",
    "# Visualize the top 10 bigrams after removing stopwords and all punctuation\n",
    "plt.figure(figsize=(15, 5))\n",
    "# Convert bigram tuples to strings for plotting\n",
    "bigram_df['Bigram'] = bigram_df['Bigram'].apply(lambda x: ' '.join(x))\n",
    "sns.barplot(x='Bigram', y='Count', data=bigram_df)\n",
    "plt.xticks(rotation=45)\n",
    "plt.title('Top 10 Bigrams')\n",
    "plt.show()\n"
   ]
  },
  {
   "cell_type": "code",
   "execution_count": 24,
   "id": "60388a43",
   "metadata": {},
   "outputs": [
    {
     "data": {
      "image/png": "[encoded data removed]",
      "text/plain": [
       "<Figure size 1500x500 with 1 Axes>"
      ]
     },
     "metadata": {},
     "output_type": "display_data"
    }
   ],
   "source": [
    "from nltk import trigrams\n",
    "filtered_trigrams = list(trigrams(lower_case_corpus))\n",
    "\n",
    "# Count the trigrams in the filtered corpus\n",
    "filtered_trigram_counts = {}\n",
    "for tg in filtered_trigrams:\n",
    "    if tg in filtered_trigram_counts:\n",
    "        filtered_trigram_counts[tg] += 1\n",
    "    else:\n",
    "        filtered_trigram_counts[tg] = 1\n",
    "\n",
    "# Get the top 10 trigrams after removing stopwords and all punctuation\n",
    "top_filtered_trigrams = dict(sorted(filtered_trigram_counts.items(), key=lambda item: item[1], reverse=True)[:10])\n",
    "\n",
    "# Create a DataFrame for visualization\n",
    "trigram_df = pd.DataFrame(list(top_filtered_trigrams.items()), columns=['Trigram', 'Count'])\n",
    "\n",
    "# Visualize the top 10 trigrams after removing stopwords and all punctuation\n",
    "plt.figure(figsize=(15, 5))\n",
    "# Convert trigram tuples to strings for plotting\n",
    "trigram_df['Trigram'] = trigram_df['Trigram'].apply(lambda x: ' '.join(x))\n",
    "sns.barplot(x='Trigram', y='Count', data=trigram_df)\n",
    "plt.xticks(rotation=45)\n",
    "plt.title('Top 10 Trigrams after Stopword and All Punctuation Removal')\n",
    "plt.show()"
   ]
  },
  {
   "cell_type": "markdown",
   "id": "c05bd19a",
   "metadata": {},
   "source": [
    "CBOW word2vec"
   ]
  },
  {
   "cell_type": "code",
   "execution_count": null,
   "id": "20bcd08b",
   "metadata": {},
   "outputs": [],
   "source": [
    "import torch\n",
    "import torch.nn as nn\n",
    "import torch.optim as optim"
   ]
  },
  {
   "cell_type": "code",
   "execution_count": null,
   "id": "4d9f321e",
   "metadata": {},
   "outputs": [],
   "source": [
    "# Hyperparameters\n",
    "embedding_dim = 5  # Typically, a larger number like 100, 200, or 300 is used\n",
    "context_size = 2   # Number of words left/right of the target word\n",
    "\n",
    "word_to_ix = {word: i for i, word in enumerate(vocab)}\n",
    "ix_to_word = {i: word for word, i in word_to_ix.items()}\n",
    "vocab_size = len(vocab)\n",
    "\n",
    "# Define the window size for the context\n",
    "window_size = 2  # This is an arbitrary choice; you can choose other sizes"
   ]
  },
  {
   "cell_type": "code",
   "execution_count": null,
   "id": "df713db8",
   "metadata": {},
   "outputs": [
    {
     "name": "stdout",
     "output_type": "stream",
     "text": [
      "Epoch 0: Total Loss: 9806125.42\n"
     ]
    }
   ],
   "source": [
    "def generate_context_pairs(corpus, word_to_ix, window_size):\n",
    "    data = []\n",
    "    for i, word in enumerate(corpus):\n",
    "        start = max(0, i - window_size)\n",
    "        end = min(len(corpus), i + window_size + 1)\n",
    "        context = [corpus[j] for j in range(start, end) if j != i]\n",
    "        target = word_to_ix[word]\n",
    "        context_indices = [word_to_ix[w] for w in context]\n",
    "        data.append((context_indices, target))\n",
    "    return data\n",
    "\n",
    "data = generate_context_pairs(lower_case_corpus, word_to_ix, window_size)\n",
    "\n",
    "def pad_context(context_indices, context_size):\n",
    "    return context_indices + [0] * (2 * context_size - len(context_indices))\n",
    "\n",
    "# Define the CBOW model\n",
    "class CBOW(nn.Module):\n",
    "    def __init__(self, vocab_size, embedding_dim, context_size):\n",
    "        super(CBOW, self).__init__()\n",
    "        self.embeddings = nn.Embedding(vocab_size, embedding_dim, padding_idx=0)\n",
    "        self.linear = nn.Linear(embedding_dim, vocab_size)\n",
    "        \n",
    "    def forward(self, inputs):\n",
    "        embeds = self.embeddings(inputs).mean(dim=1)  # Corrected dimension\n",
    "        out = self.linear(embeds)\n",
    "        log_probs = nn.functional.log_softmax(out, dim=1)  # Corrected dimension\n",
    "        return log_probs\n",
    "    \n",
    "\n",
    "model = CBOW(vocab_size, embedding_dim, context_size).to(device)  # Move model to GPU if available\n",
    "loss_function = nn.NLLLoss()\n",
    "optimizer = optim.Adam(model.parameters(), lr=0.001) \n",
    "\n",
    "# Training loop\n",
    "for epoch in range(100):\n",
    "    total_loss = 0\n",
    "    for context, target in data_loader:  # Your DataLoader should handle batching\n",
    "        context, target = context.to(device), target.to(device)  # Move data to GPU if available\n",
    "        model.zero_grad()\n",
    "        log_probs = model(context)\n",
    "        loss = loss_function(log_probs, target)\n",
    "        loss.backward()\n",
    "        optimizer.step()\n",
    "        total_loss += loss.item()\n",
    "\n",
    "    # Print loss every 10 epochs or adjust to your preference\n",
    "    if epoch % 10 == 0:\n",
    "        print(f'Epoch {epoch}: Total Loss: {total_loss:.2f}')\n"
   ]
  },
  {
   "cell_type": "code",
   "execution_count": null,
   "id": "891fd664",
   "metadata": {},
   "outputs": [],
   "source": [
    "word_indices = torch.tensor([quick_idx, brown_idx], dtype=torch.long)\n",
    "embeddings = model.embeddings(word_indices)\n",
    "print(f\"Embedding for 'quick': {embeddings[0]}\")\n",
    "print(f\"Embedding for 'brown': {embeddings[1]}\")"
   ]
  },
  {
   "cell_type": "code",
   "execution_count": null,
   "id": "e55cbe8b",
   "metadata": {},
   "outputs": [],
   "source": [
    "# def predict_next_word(model, context, word_to_ix, ix_to_word):\n",
    "#     # Check if the context is less than the expected size and pad it if necessary\n",
    "#     if len(context) < 2 * context_size:\n",
    "#         context = [0] * (2 * context_size - len(context)) + context\n",
    "#     # Otherwise, take the last `2 * context_size` words as the context\n",
    "#     else:\n",
    "#         context = context[-(2 * context_size):]\n",
    "\n",
    "#     # Convert context words to indices, handling out-of-vocabulary words\n",
    "#     context_indices = [word_to_ix.get(w, 0) for w in context]  # 0 is typically for unknown words\n",
    "\n",
    "#     # Transform to a PyTorch tensor and add a batch dimension\n",
    "#     context_var = torch.tensor([context_indices], dtype=torch.long)\n",
    "\n",
    "#     # Get the log probabilities from the model\n",
    "#     with torch.no_grad():\n",
    "#         log_probs = model(context_var)\n",
    "\n",
    "#     # Convert log probabilities to probabilities\n",
    "#     probs = torch.exp(log_probs)\n",
    "\n",
    "#     # Get the index of the highest probability\n",
    "#     _, predicted_index = torch.max(probs, 1)\n",
    "\n",
    "#     # Convert index to word\n",
    "#     predicted_word = ix_to_word[predicted_index.item()]\n",
    "\n",
    "#     return predicted_word\n",
    "\n",
    "# # Example usage:\n",
    "# context = ['i', 'am', 'the', 'king', 'of']\n",
    "# predicted_word = predict_next_word(model, context, word_to_ix, ix_to_word)\n",
    "# print(f\"The next word is: {predicted_word}\")\n"
   ]
  }
 ],
 "metadata": {
  "kernelspec": {
   "display_name": "Python 3 (ipykernel)",
   "language": "python",
   "name": "python3"
  },
  "language_info": {
   "codemirror_mode": {
    "name": "ipython",
    "version": 3
   },
   "file_extension": ".py",
   "mimetype": "text/x-python",
   "name": "python",
   "nbconvert_exporter": "python",
   "pygments_lexer": "ipython3",
   "version": "3.11.3"
  }
 },
 "nbformat": 4,
 "nbformat_minor": 5
}
